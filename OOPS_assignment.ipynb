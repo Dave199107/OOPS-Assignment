{
  "nbformat": 4,
  "nbformat_minor": 0,
  "metadata": {
    "colab": {
      "provenance": []
    },
    "kernelspec": {
      "name": "python3",
      "display_name": "Python 3"
    },
    "language_info": {
      "name": "python"
    }
  },
  "cells": [
    {
      "cell_type": "markdown",
      "source": [
        "# **OOPs Questions**"
      ],
      "metadata": {
        "id": "kCf80G9cBvUd"
      }
    },
    {
      "cell_type": "markdown",
      "source": [
        "**1. What is Object-Oriented Programming (OOP)?**\n",
        "\n",
        "OOP is a programming paradigm that organizes code into reusable \"objects\" containing data (attributes) and behavior (methods).\n",
        "\n",
        "**2. What is a class in OOP?**\n",
        "\n",
        "A class is a blueprint for creating objects, defining their properties (attributes) and actions (methods).\n",
        "Example:\n",
        "\n",
        "class Car:\n",
        "    def __init__(self, color):\n",
        "        self.color = color\n",
        "\n",
        "**3. What is an object in OOP?**\n",
        "\n",
        "An object is an instance of a class.\n",
        "Example:\n",
        "\n",
        "my_car = Car(\"red\")  # my_car is an object of the Car class\n",
        "\n",
        "**4. Difference between Abstraction and Encapsulation?**\n",
        "\n",
        "\n",
        "Abstraction: Hiding complex details, showing only essential features (e.g., using drive() without knowing engine mechanics).\n",
        "\n",
        "Encapsulation: Bundling data and methods, restricting direct access (e.g., using private variables).\n",
        "\n",
        "**5. What are dunder methods in Python?**\n",
        "\n",
        "\n",
        "Special methods with double underscores (__) like __init__, __str__, used for built-in operations.\n",
        "\n",
        "**6. What is Inheritance in OOP?**\n",
        "\n",
        "A child class inherits attributes and methods from a parent class.\n",
        "Example:\n",
        "\n",
        "class ElectricCar(Car):  # Inherits from Car\n",
        "    pass\n",
        "**7. What is Polymorphism in OOP?**\n",
        "\n",
        "\n",
        "Objects of different classes can be used interchangeably if they share the same method names (e.g., Dog.speak() vs Cat.speak()).\n",
        "\n",
        "**8. How is Encapsulation Achieved in Python?**\n",
        "\n",
        "\n",
        "Using _ (protected) or __ (private) prefixes to restrict access.\n",
        "Example:\n",
        "\n",
        "self.__secret = \"hidden\"  # Private variable\n",
        "\n",
        "**9. What is a Constructor in Python? **\n",
        "\n",
        "\n",
        "The __init__ method, called when an object is created.\n",
        "Example:\n",
        "\n",
        "def __init__(self, name):\n",
        "    self.name = name\n",
        "\n",
        "**10. What are Class and Static Methods in Python?**\n",
        "\n",
        "\n",
        "@classmethod: Takes cls (class) as first argument, used for factory methods.\n",
        "\n",
        "@staticmethod: No self or cls, behaves like a regular function inside a class.\n",
        "\n",
        "**11. What is Method Overloading in Python?**\n",
        "\n",
        "\n",
        "Python doesn’t support traditional overloading (same method name with different parameters), but we can use default arguments.\n",
        "\n",
        "**12. What is Method Overriding in OOP?**\n",
        "\n",
        "\n",
        "A child class redefines a method from its parent class.\n",
        "\n",
        "Example:\n",
        "\n",
        "class Child(Parent):\n",
        "    def method(self):  # Overrides Parent's method\n",
        "        print(\"New behavior\")\n",
        "\n",
        "**13. What is a Property Decorator in Python?**\n",
        "\n",
        "\n",
        "@property allows a method to be accessed like an attribute, enabling getters/setters.\n",
        "\n",
        "Example:\n",
        "\n",
        "@property\n",
        "def name(self):\n",
        "    return self._name\n",
        "\n",
        "**14. Why is Polymorphism Important in OOP?**\n",
        "\n",
        "\n",
        "It allows flexible and reusable code (e.g., a single draw() function works for Circle, Square objects).\n",
        "\n",
        "**15. What is an Abstract Class in Python?**\n",
        "\n",
        "A class with @abstractmethod that cannot be instantiated, forcing child classes to implement methods.\n",
        "\n",
        "**16. Advantages of OOP?**\n",
        "\n",
        "Reusability (inheritance)\n",
        "\n",
        "Modularity (classes as independent units)\n",
        "\n",
        "Maintainability (organized structure)\n",
        "\n",
        "Scalability (easy to extend)\n",
        "\n",
        "**17. Class Variable vs Instance Variable?**\n",
        "\n",
        "Class Variable: Shared by all instances (class_var = 10).\n",
        "\n",
        "Instance Variable: Unique to each object (self.var = 20).\n",
        "\n",
        "**18. What is Multiple Inheritance in Python?**\n",
        "\n",
        "A class inherits from multiple parent classes.\n",
        "\n",
        "Example:\n",
        "\n",
        "class Child(Parent1, Parent2):\n",
        "    pass\n",
        "\n",
        "**19. Purpose of __str__ and __repr__?**\n",
        "\n",
        "__str__: User-friendly string (print(obj)).\n",
        "\n",
        "__repr__: Developer-friendly string (debugging).\n",
        "\n",
        "**20. Significance of super()?**\n",
        "\n",
        "Calls a parent class’s method, useful in inheritance.\n",
        "\n",
        "Example:\n",
        "\n",
        "super().__init__()  # Calls parent's __init__\n",
        "\n",
        "**21. Significance of __del__?**\n",
        "\n",
        "A destructor method, called when an object is garbage-collected.\n",
        "\n",
        "**22. Difference Between @staticmethod and @classmethod?**\n",
        "\n",
        "@staticmethod: No self/cls, just a utility function.\n",
        "\n",
        "@classmethod: Takes cls, often used for alternate constructors.\n",
        "\n",
        "**23. How Does Polymorphism Work with Inheritance?**\n",
        "\n",
        "Child classes override parent methods to change behavior (e.g., Animal.speak() vs Dog.speak()).\n",
        "\n",
        "**24. What is Method Chaining?**\n",
        "\n",
        "Returning self to chain method calls.\n",
        "\n",
        "Example:\n",
        "\n",
        "obj.method1().method2()\n",
        "\n",
        "**25. Purpose of __call__?**\n",
        "\n",
        "Allows an object to be called like a function.\n",
        "\n",
        "Example:\n",
        "\n",
        "obj()  # Calls obj.__call__()"
      ],
      "metadata": {
        "id": "xdiZ3Rustgr5"
      }
    },
    {
      "cell_type": "markdown",
      "source": [
        "# **Practical Questions**"
      ],
      "metadata": {
        "id": "u-36wkI7CBca"
      }
    },
    {
      "cell_type": "code",
      "source": [
        "#1. Parent Class Animal with Child Dog Overriding speak()\n",
        "class Animal:\n",
        "    def speak(self):\n",
        "        print(\"Animal speaks\")\n",
        "\n",
        "class Dog(Animal):\n",
        "    def speak(self):\n",
        "        print(\"Bark!\")\n",
        "\n",
        "dog = Dog()\n",
        "dog.speak()"
      ],
      "metadata": {
        "colab": {
          "base_uri": "https://localhost:8080/"
        },
        "id": "DxGdM24jvfnb",
        "outputId": "c7db9a36-48c1-41f9-8f0d-899e1bdf0ba5"
      },
      "execution_count": null,
      "outputs": [
        {
          "output_type": "stream",
          "name": "stdout",
          "text": [
            "Bark!\n"
          ]
        }
      ]
    },
    {
      "cell_type": "code",
      "source": [
        "# 2. Abstract Class Shape with Circle and Rectangle\n",
        "\n",
        "\n",
        "from abc import ABC, abstractmethod\n",
        "\n",
        "class Shape(ABC):\n",
        "    @abstractmethod\n",
        "    def area(self):\n",
        "        pass\n",
        "\n",
        "class Circle(Shape):\n",
        "    def __init__(self, radius):\n",
        "        self.radius = radius\n",
        "\n",
        "    def area(self):\n",
        "        return 3.14 * self.radius ** 2\n",
        "\n",
        "class Rectangle(Shape):\n",
        "    def __init__(self, length, width):\n",
        "        self.length = length\n",
        "        self.width = width\n",
        "\n",
        "    def area(self):\n",
        "        return self.length * self.width\n",
        "\n",
        "circle = Circle(5)\n",
        "print(circle.area())"
      ],
      "metadata": {
        "colab": {
          "base_uri": "https://localhost:8080/"
        },
        "id": "4IAYH5GZvfyw",
        "outputId": "3ece9262-23e0-4ba2-b4bf-54945b212c05"
      },
      "execution_count": null,
      "outputs": [
        {
          "output_type": "stream",
          "name": "stdout",
          "text": [
            "78.5\n"
          ]
        }
      ]
    },
    {
      "cell_type": "code",
      "source": [
        "# 3. Multi-Level Inheritance: Vehicle → Car → ElectricCar\n",
        "class Vehicle:\n",
        "    def __init__(self, type):\n",
        "        self.type = type\n",
        "\n",
        "class Car(Vehicle):\n",
        "    def __init__(self, type, brand):\n",
        "        super().__init__(type)\n",
        "        self.brand = brand\n",
        "\n",
        "class ElectricCar(Car):\n",
        "    def __init__(self, type, brand, battery):\n",
        "        super().__init__(type, brand)\n",
        "        self.battery = battery\n",
        "\n",
        "tesla = ElectricCar(\"Electric\", \"Tesla\", \"100kWh\")\n",
        "print(tesla.battery)"
      ],
      "metadata": {
        "colab": {
          "base_uri": "https://localhost:8080/"
        },
        "id": "Pet5ojgMvf65",
        "outputId": "cf4c4d65-c929-44a3-d2fa-412afb6242d3"
      },
      "execution_count": null,
      "outputs": [
        {
          "output_type": "stream",
          "name": "stdout",
          "text": [
            "100kWh\n"
          ]
        }
      ]
    },
    {
      "cell_type": "code",
      "source": [
        "# 4. Polymorphism with Bird, Sparrow, and Penguin\n",
        "\n",
        "class Bird:\n",
        "    def fly(self):\n",
        "        print(\"Bird can fly\")\n",
        "\n",
        "class Sparrow(Bird):\n",
        "    def fly(self):\n",
        "        print(\"Sparrow flies fast\")\n",
        "\n",
        "class Penguin(Bird):\n",
        "    def fly(self):\n",
        "        print(\"Penguin cannot fly\")\n",
        "\n",
        "sparrow = Sparrow()\n",
        "penguin = Penguin()\n",
        "sparrow.fly()\n",
        "penguin.fly()"
      ],
      "metadata": {
        "id": "GkK5E0gRvf-m"
      },
      "execution_count": null,
      "outputs": []
    },
    {
      "cell_type": "code",
      "source": [
        "# 5. Encapsulation in BankAccount\n",
        "\n",
        "class BankAccount:\n",
        "    def __init__(self):\n",
        "        self.__balance = 0  # Private attribute\n",
        "\n",
        "    def deposit(self, amount):\n",
        "        self.__balance += amount\n",
        "\n",
        "    def withdraw(self, amount):\n",
        "        if self.__balance >= amount:\n",
        "            self.__balance -= amount\n",
        "        else:\n",
        "            print(\"Insufficient balance\")\n",
        "\n",
        "    def check_balance(self):\n",
        "        return self.__balance\n",
        "\n",
        "account = BankAccount()\n",
        "account.deposit(1000)\n",
        "print(account.check_balance())"
      ],
      "metadata": {
        "colab": {
          "base_uri": "https://localhost:8080/"
        },
        "id": "zhha3zYZvgCA",
        "outputId": "3bfcfd5e-9eac-4a6e-8fa5-6f813aca4cdd"
      },
      "execution_count": null,
      "outputs": [
        {
          "output_type": "stream",
          "name": "stdout",
          "text": [
            "1000\n"
          ]
        }
      ]
    },
    {
      "cell_type": "code",
      "source": [
        "# 6. Runtime Polymorphism with Instrument, Guitar, Piano\n",
        "\n",
        "class Instrument:\n",
        "    def play(self):\n",
        "        print(\"Instrument plays\")\n",
        "\n",
        "class Guitar(Instrument):\n",
        "    def play(self):\n",
        "        print(\"Guitar strums\")\n",
        "\n",
        "class Piano(Instrument):\n",
        "    def play(self):\n",
        "        print(\"Piano keys pressed\")\n",
        "\n",
        "def play_instrument(instrument):\n",
        "    instrument.play()\n",
        "\n",
        "guitar = Guitar()\n",
        "piano = Piano()\n",
        "play_instrument(guitar)  # Output: Guitar strums\n",
        "play_instrument(piano)"
      ],
      "metadata": {
        "id": "se8ew9rJvgFJ"
      },
      "execution_count": null,
      "outputs": []
    },
    {
      "cell_type": "code",
      "source": [
        "# 7. MathOperations with Class & Static Methods\n",
        "\n",
        "class MathOperations:\n",
        "    @classmethod\n",
        "    def add_numbers(cls, a, b):\n",
        "        return a + b\n",
        "\n",
        "    @staticmethod\n",
        "    def subtract_numbers(a, b):\n",
        "        return a - b\n",
        "\n",
        "print(MathOperations.add_numbers(5, 3))\n",
        "print(MathOperations.subtract_numbers(5, 3))"
      ],
      "metadata": {
        "id": "0cnpevpEvgIa"
      },
      "execution_count": null,
      "outputs": []
    },
    {
      "cell_type": "code",
      "source": [
        "#8. Person Class with Person Counter\n",
        "\n",
        "class Person:\n",
        "    count = 0\n",
        "\n",
        "    def __init__(self):\n",
        "        Person.count += 1\n",
        "\n",
        "    @classmethod\n",
        "    def total_persons(cls):\n",
        "        return cls.count\n",
        "\n",
        "p1 = Person()\n",
        "p2 = Person()\n",
        "print(Person.total_persons())"
      ],
      "metadata": {
        "colab": {
          "base_uri": "https://localhost:8080/"
        },
        "id": "sPMkDvJKvgLR",
        "outputId": "f73ee010-7045-4a42-eb6b-ec6ca9a18f8a"
      },
      "execution_count": null,
      "outputs": [
        {
          "output_type": "stream",
          "name": "stdout",
          "text": [
            "2\n"
          ]
        }
      ]
    },
    {
      "cell_type": "code",
      "source": [
        "# 9. Fraction Class with __str__ Override\n",
        "\n",
        "class Fraction:\n",
        "    def __init__(self, numerator, denominator):\n",
        "        self.numerator = numerator\n",
        "        self.denominator = denominator\n",
        "\n",
        "    def __str__(self):\n",
        "        return f\"{self.numerator}/{self.denominator}\"\n",
        "\n",
        "frac = Fraction(3, 4)\n",
        "print(frac)"
      ],
      "metadata": {
        "colab": {
          "base_uri": "https://localhost:8080/"
        },
        "id": "wjQZWH3YvgOD",
        "outputId": "a1636985-2c2b-4e8e-8203-2985ea362c54"
      },
      "execution_count": null,
      "outputs": [
        {
          "output_type": "stream",
          "name": "stdout",
          "text": [
            "3/4\n"
          ]
        }
      ]
    },
    {
      "cell_type": "code",
      "source": [
        "# 10. Operator Overloading in Vector Class\n",
        "\n",
        "class Vector:\n",
        "    def __init__(self, x, y):\n",
        "        self.x = x\n",
        "        self.y = y\n",
        "\n",
        "    def __add__(self, other):\n",
        "        return Vector(self.x + other.x, self.y + other.y)\n",
        "\n",
        "v1 = Vector(1, 2)\n",
        "v2 = Vector(3, 4)\n",
        "v3 = v1 + v2\n",
        "print(f\"({v3.x}, {v3.y})\")"
      ],
      "metadata": {
        "colab": {
          "base_uri": "https://localhost:8080/"
        },
        "id": "qf-ZLhi4vgdE",
        "outputId": "83bce0d6-5441-4669-d46b-b0a17a16e52d"
      },
      "execution_count": null,
      "outputs": [
        {
          "output_type": "stream",
          "name": "stdout",
          "text": [
            "(4, 6)\n"
          ]
        }
      ]
    },
    {
      "cell_type": "code",
      "source": [
        "# 11. Person Class with greet() Method\n",
        "\n",
        "class Person:\n",
        "    def __init__(self, name, age):\n",
        "        self.name = name\n",
        "        self.age = age\n",
        "\n",
        "    def greet(self):\n",
        "        print(f\"Hello, my name is {self.name} and I am {self.age} years old.\")\n",
        "\n",
        "person = Person(\"Dev\", 30)\n",
        "person.greet()"
      ],
      "metadata": {
        "colab": {
          "base_uri": "https://localhost:8080/"
        },
        "id": "1Vzva5zmvgfn",
        "outputId": "7e332b54-b0d6-4d36-a113-a204458d5bd3"
      },
      "execution_count": null,
      "outputs": [
        {
          "output_type": "stream",
          "name": "stdout",
          "text": [
            "Hello, my name is Dev and I am 30 years old.\n"
          ]
        }
      ]
    },
    {
      "cell_type": "code",
      "source": [
        "# 12. Student Class with average_grade()\n",
        "\n",
        "class Student:\n",
        "    def __init__(self, name, grades):\n",
        "        self.name = name\n",
        "        self.grades = grades\n",
        "\n",
        "    def average_grade(self):\n",
        "        return sum(self.grades) / len(self.grades)\n",
        "\n",
        "student = Student(\"Bob\", [90, 85, 88])\n",
        "print(student.average_grade())"
      ],
      "metadata": {
        "colab": {
          "base_uri": "https://localhost:8080/"
        },
        "id": "TqqL_DA1vgiS",
        "outputId": "6bb8f3b1-eabf-46c0-97d7-2a116bb225ab"
      },
      "execution_count": null,
      "outputs": [
        {
          "output_type": "stream",
          "name": "stdout",
          "text": [
            "87.66666666666667\n"
          ]
        }
      ]
    },
    {
      "cell_type": "code",
      "source": [
        "# 13. Rectangle Class with set_dimensions() and area()\n",
        "\n",
        "class Rectangle:\n",
        "    def set_dimensions(self, length, width):\n",
        "        self.length = length\n",
        "        self.width = width\n",
        "\n",
        "    def area(self):\n",
        "        return self.length * self.width\n",
        "\n",
        "rect = Rectangle()\n",
        "rect.set_dimensions(5, 3)\n",
        "print(rect.area())"
      ],
      "metadata": {
        "colab": {
          "base_uri": "https://localhost:8080/"
        },
        "id": "U9Lhn5ZuvglH",
        "outputId": "397352a6-4de6-46cc-ddf8-6ac3fcf16efc"
      },
      "execution_count": null,
      "outputs": [
        {
          "output_type": "stream",
          "name": "stdout",
          "text": [
            "15\n"
          ]
        }
      ]
    },
    {
      "cell_type": "code",
      "source": [
        "# 14. Employee and Manager with Salary Calculation\n",
        "\n",
        "class Employee:\n",
        "    def __init__(self, hours, rate):\n",
        "        self.hours = hours\n",
        "        self.rate = rate\n",
        "\n",
        "    def calculate_salary(self):\n",
        "        return self.hours * self.rate\n",
        "\n",
        "class Manager(Employee):\n",
        "    def calculate_salary(self):\n",
        "        base_salary = super().calculate_salary()\n",
        "        return base_salary + 1000  # Bonus\n",
        "\n",
        "emp = Employee(40, 20)\n",
        "mgr = Manager(40, 20)\n",
        "print(emp.calculate_salary())  # Output: 800\n",
        "print(mgr.calculate_salary())"
      ],
      "metadata": {
        "id": "PmNzab6LFR8x"
      },
      "execution_count": null,
      "outputs": []
    }
  ]
}